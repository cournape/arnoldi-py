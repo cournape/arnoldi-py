{
 "cells": [
  {
   "cell_type": "markdown",
   "id": "e353f4d7-8376-411a-8bc5-4dea2995b227",
   "metadata": {},
   "source": [
    "# QR transform and Schur decomposition for dense matrices\n",
    "\n",
    "Chapter 4 of \"Lecture Notes on Solving Large Scale Eigenvalue Problems\" from Prof. Dr. Peter Arbenz"
   ]
  },
  {
   "cell_type": "code",
   "execution_count": 1,
   "id": "3e49d4e8-bb30-48f6-96b9-b0949d98d63f",
   "metadata": {},
   "outputs": [],
   "source": [
    "import numpy as np\n",
    "from scipy.linalg import eig, qr, hessenberg\n",
    "from matplotlib import pyplot as plt\n",
    "\n",
    "import seaborn as sns\n",
    "\n",
    "sns.set_theme()\n",
    "np.set_printoptions(precision=4)"
   ]
  },
  {
   "cell_type": "markdown",
   "id": "b009be60-f3ac-4947-ae5f-8c391cc2a0c0",
   "metadata": {},
   "source": [
    "## QR transform\n",
    "\n",
    "For any matrix A on the complex field, the QR transform decomposes A =: QR into a pair of two matrices, where Q is unitary and R is upper triangular."
   ]
  },
  {
   "cell_type": "markdown",
   "id": "1440d67a-ef66-4a20-bf30-cb867f540f3b",
   "metadata": {},
   "source": [
    "## Basic QR algorithm for Schur decomposition\n",
    "\n",
    "The Schur decomposition decomposes a square matrix A from the complex field into $A = U T U^*$ where $U$ is unitary and $T$ is upper triangular. Every square matrix has at least one Schur decomposition (see chapter 4 for a proof).\n",
    "\n",
    "Reminders:\n",
    "- unitary matrices are matrices such as $U^* = U^-1$. Unitary matrices vectors form an orthonormal basis of the underlying vector space\n",
    "- the eigen values of a triangular matrix are the elements on the diagonal\n",
    "- since $U$ is unitary, the eigen values of $T$ are the eigenvalues of $A$\n",
    "\n",
    "The basic QR algorithm iteratively builds U and T through successive QR transforms. The convergence for the \"below diagonal\" element $a_{i,j}$ for iteration $k$ is in $O(|\\lambda_i / \\lambda_j|^k)$. So convergence can be slow, especially for adjacent and close eigen values.\n",
    "\n",
    "See algorithm 4.1 in chapter 4, page 64 of the reference."
   ]
  },
  {
   "cell_type": "code",
   "execution_count": 2,
   "id": "6ae7d076-fb05-4568-bded-78b69774223d",
   "metadata": {},
   "outputs": [
    {
     "name": "stdout",
     "output_type": "stream",
     "text": [
      "Diagonal values of a are [5. 3. 2. 1.]\n",
      "A_k is almost upper triangular\n",
      "[[ 5.6     1.3709 -0.7684  1.8786]\n",
      " [ 4.3375  5.1188 -2.4355  2.5006]\n",
      " [ 1.5626 -0.0203  1.7391  1.5606]\n",
      " [-6.365  -3.2657  2.2251 -1.4579]]\n"
     ]
    }
   ],
   "source": [
    "np.random.seed(42)\n",
    "\n",
    "\n",
    "diag_values = np.array([5, 3, 2, 1], dtype=np.double)\n",
    "d = np.diag(diag_values)\n",
    "# Create a random square matrix, with values in [-1, 1]\n",
    "s = (np.random.rand(4, 4) - 0.5) * 2\n",
    "# Build a diagonalizable real matrix\n",
    "a = s @ d @ np.linalg.inv(s)\n",
    "\n",
    "# QR algorithm for Schur decomposition: a = u^h * t * u. u are the Schur vectors\n",
    "# t is upper triangular\n",
    "t = a.copy()\n",
    "u = np.eye(d.shape[0])\n",
    "niter = 20\n",
    "\n",
    "history = []\n",
    "for k in range(niter):\n",
    "    q, r = qr(t)\n",
    "    t = r @ q\n",
    "    u = u @ q\n",
    "    history.append(np.diag(t))\n",
    "\n",
    "print(f\"Diagonal values of a are {np.diag(t)}\")\n",
    "print(f\"A_k is almost upper triangular\")\n",
    "print(a)"
   ]
  },
  {
   "cell_type": "code",
   "execution_count": 3,
   "id": "0360cc4c-b73e-4a3f-85ea-d96ac9b198d7",
   "metadata": {},
   "outputs": [
    {
     "name": "stdout",
     "output_type": "stream",
     "text": [
      "[[ 5.6     1.3709 -0.7684  1.8786]\n",
      " [ 4.3375  5.1188 -2.4355  2.5006]\n",
      " [ 1.5626 -0.0203  1.7391  1.5606]\n",
      " [-6.365  -3.2657  2.2251 -1.4579]]\n",
      "[-6.1087e-05  4.9649e-05 -2.9332e-05  3.7234e-05]\n"
     ]
    }
   ],
   "source": [
    "print(a)\n",
    "u0 = u[:, 0]\n",
    "print(a @ u0 - t[0, 0] * u0)"
   ]
  },
  {
   "cell_type": "code",
   "execution_count": 4,
   "id": "f7d7d049-99fe-46d9-907e-612acede8863",
   "metadata": {},
   "outputs": [
    {
     "data": {
      "text/plain": [
       "[<matplotlib.lines.Line2D at 0x10f4bf650>,\n",
       " <matplotlib.lines.Line2D at 0x10f4bf170>]"
      ]
     },
     "execution_count": 4,
     "metadata": {},
     "output_type": "execute_result"
    },
    {
     "data": {
      "image/png": "[encoded data removed]",
      "text/plain": [
       "<Figure size 640x480 with 1 Axes>"
      ]
     },
     "metadata": {},
     "output_type": "display_data"
    }
   ],
   "source": [
    "# Plot convergence of the first / second eigenvalue\n",
    "plt.plot([(h[1], h[2]) for h in history])"
   ]
  },
  {
   "cell_type": "markdown",
   "id": "7adcd76e-2a3b-4699-acb1-c654e5ac5f4c",
   "metadata": {},
   "source": [
    "Some notes\n",
    "- convergence is relatively slow. Even for a tiny matrix of 4x4, you need more than 10 iterations to get a few digits of precision.\n",
    "- overall complexity can be O(n^4). Each iteration requires a full QR decomposition, which is n^3. You may easily need n iterations of more depending on relative values of eigen values"
   ]
  },
  {
   "cell_type": "markdown",
   "id": "f4c1b2f3-e2fa-48f8-bd41-6340a87607a1",
   "metadata": {},
   "source": [
    "# The Hessenberg QR algorithm\n",
    "\n",
    "This methods accelerates the basic QR algorithm by first transforming the matrix $A$ into a hessenberg matrix $H$, and then apply the QR iterations on $H$. The specific structure of Hessenberg matrix makes QR iteration an $O(n^2)$ operation instead of $O(n^3)$ with the naive implementation of the previous section.\n",
    "\n",
    "### Hessenberg matrices\n",
    "\n",
    "A matrix H is a Hessenberg matrix if the elements below the lower off diagonal are zero: \n",
    "\n",
    "$$h_{i,j} = 0,  i > j+1$$\n",
    "\n",
    "An important property: **Hessenberg form is preserved by the QR algorithm**, i.e. if $H = QR$ is a QR factorization of an Hessenberg matrix $H$, then $RQ$ is still Hessenberg.\n",
    "\n",
    "Note: for hermitian matrices, the Hessenberg form is tri-diagonal.\n",
    "\n",
    "### Givens rotations or plane rotation\n",
    "\n",
    "A Givens rotation $G(i, j, \\theta)$:\n",
    "\n",
    "$$ G(i,j,\\vartheta) :=\n",
    "\\begin{array}{cccccccc}\n",
    "1      & \\cdots & 0 & \\cdots & 0 & \\cdots & 0 &\\\\\n",
    "\\vdots & \\ddots & \\vdots &   & \\vdots & & \\vdots &\\\\\n",
    "0      & \\cdots & c      & \\cdots & s & \\cdots & 0 & \\leftarrow i\\\\\n",
    "\\vdots &        & \\vdots & \\ddots &  \\vdots & & \\vdots &\\\\\n",
    "0      & \\cdots & -s     & \\cdots & c & \\cdots & 0 & \\leftarrow j\\\\\n",
    "\\vdots &        & \\vdots &        & \\vdots & \\ddots & \\vdots &\\\\\n",
    "0      & \\cdots & 0 & \\cdots & 0 & \\cdots & 1 &\\\\\n",
    "       &        & \\uparrow & & \\uparrow \\\\\n",
    "       &        & i       & & j\n",
    "\\end{array}\n",
    "$$\n",
    "\n",
    "with $c = \\cos(\\theta)$ and $s = \\sin(\\theta)$.\n",
    "\n",
    "A few remarks:\n",
    "- Givens rotations are orthogonals matrices.\n",
    "- For $\\mathbf{x} \\in \\mathbb{R^n}$, $\\mathbf{y} = G(i, v, \\theta)^* \\mathbf{x}$:\n",
    "\n",
    "$$y_k =\n",
    "\\begin{cases}\n",
    "  cx_i - sx_j, & \\text{if } k = i \\\\\n",
    "  sx_i + cx_j, & \\text{if } k = j \\\\\n",
    "  x_k, & \\text{if } k \\ne i,j\n",
    "\\end{cases}\n",
    "$$\n",
    "\n",
    "which means you can zero out $y_j$ with the right $c$ and $s$\n",
    "\n",
    "This last property is enough to decompose $H$ into $Q R$ decomposition: you can apply a Givens rotation for each under diagonal value, removing them one at a time. Composition of $G(1, 2, .)$, then $G(2, 3, .)$, etc. leads do a unitary matrix $Q$ , and by construction, we have $$G(1, 2, .) G(2, 3, .) ... G(n-1, n, .) H =: Q^* H =: R$$\n",
    "\n",
    "Complexity-wise, it is easy to see that each $G(i, j, .)$ application is $O(n)$, and so one QR step for $H$ is $O(n^2)$. \n",
    "\n",
    "However, the convergence is still slow if the quotient $|\\lambda_k/\\lambda_{k+1}|$ is close to $1$."
   ]
  },
  {
   "cell_type": "code",
   "execution_count": 5,
   "id": "cfbf4cb1-9ff7-4fd8-997d-356ea77a7e0c",
   "metadata": {},
   "outputs": [
    {
     "name": "stdout",
     "output_type": "stream",
     "text": [
      "t should be upper triangular\n",
      "[[ 5.0e+00 -7.6e-02  2.4e-01 -1.0e+01]\n",
      " [-2.0e-11  3.0e+00  5.6e-01 -3.5e+00]\n",
      " [ 0.0e+00 -2.1e-09  2.0e+00 -3.1e+00]\n",
      " [ 0.0e+00  0.0e+00  7.5e-16  1.0e+00]]\n",
      "t's diagonal should be eigenvalues: diag(a) - diag(t) ~ 0\n",
      "[-2.3e-15 -1.2e-09  1.2e-09 -7.7e-13]\n",
      "the first column of u, aka first schur vector, should be eigenvector: a u0 ~ lambda0 u0\n",
      "[-1.4e-11  1.9e-12  8.4e-12  1.3e-11]\n"
     ]
    }
   ],
   "source": [
    "# QR algorithm for Schur decomposition: a = u^h * t * u. u are the Schur vectors\n",
    "# t is upper triangular\n",
    "np.random.seed(42)\n",
    "\n",
    "niter = 50\n",
    "\n",
    "diag_values = np.array([5, 3, 2, 1], dtype=np.double)\n",
    "n = diag_values.shape[0]\n",
    "\n",
    "d = np.diag(diag_values)\n",
    "# Create a random square matrix, with values in [-1, 1]\n",
    "s = (np.random.rand(4, 4) - 0.5) * 2\n",
    "# Build a diagonalizable real matrix\n",
    "a = s @ d @ np.linalg.inv(s)\n",
    "\n",
    "\n",
    "def givens(x_i, x_j):\n",
    "    \"\"\" Return c / s for the givens rotation G.\n",
    "\n",
    "    x_i / x_j are expected to be x[i] and x[j], and G will rotate on axes (i, j)\n",
    "    such as y_j = 0, where y = G * x.\n",
    "    \"\"\"\n",
    "    d = np.hypot(x_i, x_j)\n",
    "    return x_i / d, -x_j / d\n",
    "\n",
    "def compute_c_s(h, k):\n",
    "    h1, h2 = h[k, k], h[k+1, k]\n",
    "    return givens(h1, h2)\n",
    "    \n",
    "def left_rotation(c, s):\n",
    "    return np.array([[c, -s], [s, c]])\n",
    "\n",
    "def right_rotation(c, s):\n",
    "    return np.array([[c, s], [-s, c]])\n",
    "\n",
    "# QR algorithm for Schur decomposition, Hessenberge form.\n",
    "# 1. we transform a into h, Hessenberg form. a = h_q^* h * h_q.\n",
    "# 2. we apply QR iterations on h. We then get: h = u^* * t * u. u are the Schur vectors\n",
    "# and t is upper triangular\n",
    "h, h_q = hessenberg(a, calc_q=True)\n",
    "t = h.copy()\n",
    "u = np.eye(h.shape[0])\n",
    "\n",
    "for i in range(niter):\n",
    "    c_s = []\n",
    "    \n",
    "    for k in range(n-1):\n",
    "        c, s = compute_c_s(t, k)\n",
    "        c_s.append((c, s))\n",
    "        t[k:k+2, k:] = left_rotation(c, s) @ t[k:k+2, k:]\n",
    "\n",
    "    for k in range(n-1):\n",
    "        c, s = c_s[k]\n",
    "        t[:k+2, k:k+2] @= right_rotation(c, s)\n",
    "\n",
    "    for k in range(n-1):\n",
    "        c, s = c_s[k]\n",
    "        u[:, k:k+2] @= right_rotation(c, s)\n",
    "\n",
    "with np.printoptions(precision=1):\n",
    "    print(\"t should be upper triangular\")\n",
    "    print(t)\n",
    "    print(\"t's diagonal should be eigenvalues: diag(a) - diag(t) ~ 0\")\n",
    "    # We sort as eigen values may be reordered\n",
    "    print(np.array(sorted(np.diag(t))) - np.array(sorted(diag_values)))\n",
    "    print(\"the first column of u, aka first schur vector, should be eigenvector: a u0 ~ lambda0 u0\")\n",
    "    u0 = u[:, 0]\n",
    "    print(h @ u0 - t[0, 0] * u0)"
   ]
  },
  {
   "cell_type": "markdown",
   "id": "9b534c16-bd67-4312-a8e6-a0153dea0b71",
   "metadata": {},
   "source": [
    "## Missing parts (TODO)\n",
    "\n",
    "- How to transform into hessenberg through Householder transforms\n",
    "- How to improve convergense with shifting\n",
    "- How to improve convergence with real matrices with double shifting\n",
    "- How to reduce algo complexity for hermitian matrices"
   ]
  }
 ],
 "metadata": {
  "kernelspec": {
   "display_name": "Python 3 (ipykernel)",
   "language": "python",
   "name": "python3"
  },
  "language_info": {
   "codemirror_mode": {
    "name": "ipython",
    "version": 3
   },
   "file_extension": ".py",
   "mimetype": "text/x-python",
   "name": "python",
   "nbconvert_exporter": "python",
   "pygments_lexer": "ipython3",
   "version": "3.12.4"
  }
 },
 "nbformat": 4,
 "nbformat_minor": 5
}
