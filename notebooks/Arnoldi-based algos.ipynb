{
 "cells": [
  {
   "cell_type": "code",
   "execution_count": 14,
   "id": "8db6f1ec-2f69-476f-bbf1-593ac035830d",
   "metadata": {},
   "outputs": [],
   "source": [
    "import os.path\n",
    "import sys\n",
    "\n",
    "import numpy as np\n",
    "import scipy.sparse as sp\n",
    "\n",
    "from numpy.linalg import norm\n",
    "\n",
    "from IPython.display import HTML\n",
    "\n",
    "from arnoldi.decomposition import ArnoldiDecomposition, RitzDecomposition"
   ]
  },
  {
   "cell_type": "code",
   "execution_count": 15,
   "id": "0cb8ddb7-8ad5-45d4-8893-e949ce842468",
   "metadata": {},
   "outputs": [],
   "source": [
    "import arnoldi\n",
    "root = os.path.join(os.path.dirname(arnoldi.__file__), \"..\", \"..\")\n",
    "sys.path.insert(0, root)\n",
    "from tests.test_matrices import mark"
   ]
  },
  {
   "cell_type": "markdown",
   "id": "6bd473c5-5c68-4f5e-9117-7d08bd370d86",
   "metadata": {},
   "source": [
    "## Some basic utils"
   ]
  },
  {
   "cell_type": "code",
   "execution_count": 16,
   "id": "1d9355bd-fb6f-44b2-a35f-c07174216391",
   "metadata": {},
   "outputs": [],
   "source": [
    "def min_distance(a, b):\n",
    "    # Compute distance between a and b, ignoring differences due to sign\n",
    "    # difference of conjugate\n",
    "    m = np.inf\n",
    "    for left in (a, np.conj(a)):\n",
    "        for right in (b, np.conj(b)):\n",
    "            m = min(m, np.abs(left - right))\n",
    "            m = min(m, np.abs(left + right))\n",
    "\n",
    "    return m\n",
    "\n",
    "\n",
    "def fortran_d_format(x):\n",
    "    if x == 0:\n",
    "        return \"0.000D+00\"\n",
    "    else:\n",
    "        exponent = int(np.floor(np.log10(abs(x))))\n",
    "        mantissa = x / (10 ** exponent)\n",
    "        # Normalize mantissa to [0.1, 1.0)\n",
    "        mantissa /= 10\n",
    "        exponent += 1\n",
    "        return f\"{mantissa:.3f}D{exponent:+03d}\"\n",
    "\n",
    "F = fortran_d_format"
   ]
  },
  {
   "cell_type": "markdown",
   "id": "2110b1a0-0e24-4164-93d9-c02414fa2ade",
   "metadata": {},
   "source": [
    "## Simple arnoldi decomposition, no restart"
   ]
  },
  {
   "cell_type": "code",
   "execution_count": 17,
   "id": "c17194f6-f80b-4719-b3a0-b9d2820a92a9",
   "metadata": {},
   "outputs": [],
   "source": [
    "def arnoldi_simple(a, k=None):\n",
    "    n = a.shape[0]\n",
    "    nev = 1 # Naive arnoldi w/o restart only really works for 1 eigenvalue\n",
    "    k = k or min(max(2 * nev + 1), n)\n",
    "\n",
    "    arnoldi = ArnoldiDecomposition(n, k)\n",
    "    arnoldi.initialize()\n",
    "\n",
    "    n_iter = arnoldi.iterate(a)\n",
    "\n",
    "    ritz = RitzDecomposition.from_arnoldi(arnoldi, nev, n_iter)\n",
    "    return ritz.values, ritz.vectors"
   ]
  },
  {
   "cell_type": "code",
   "execution_count": 18,
   "id": "cdfd2dfd-20b1-4ebf-8f38-e00f72ea6f1b",
   "metadata": {},
   "outputs": [
    {
     "name": "stdout",
     "output_type": "stream",
     "text": [
      "[-1.+0.j]\n"
     ]
    }
   ],
   "source": [
    "A = mark(10)\n",
    "N = A.shape[0]\n",
    "NEV = 1\n",
    "\n",
    "r_values = np.sort(sp.linalg.eigs(A, NEV)[0])[::-1]\n",
    "print(r_values)"
   ]
  },
  {
   "cell_type": "code",
   "execution_count": 19,
   "id": "31d2732f-374f-4a27-9d65-381d1955f78e",
   "metadata": {},
   "outputs": [
    {
     "data": {
      "text/html": [
       "<table style=\"border-collapse: collapse; font-family: monospace; text-align: right;\"><caption style=\"caption-side: bottom; text-align: center; padding-top: 6px; font-style: italic;\">Convergence as a function of Arnoldi decomposition dimension (reproduction of table 6.1)</caption><thead><tr><th style=\"border: 1px solid black; padding: 4px;\">$m$</th><th style=\"border: 1px solid black; padding: 4px;\">$\\Re(\\lambda)$</th><th style=\"border: 1px solid black; padding: 4px;\">$\\Im(\\lambda)$</th><th style=\"border: 1px solid black; padding: 4px;\">Res. Norm</th></tr></thead><tbody><tr><td style=\"border: 1px solid black; padding: 4px;\">5</td><td style=\"border: 1px solid black; padding: 4px;\">-0.9266539846</td><td style=\"border: 1px solid black; padding: 4px;\">-0.0</td><td style=\"border: 1px solid black; padding: 4px;\">0.733D-01</td></tr><tr><td style=\"border: 1px solid black; padding: 4px;\">10</td><td style=\"border: 1px solid black; padding: 4px;\">0.9841314729</td><td style=\"border: 1px solid black; padding: 4px;\">0.0</td><td style=\"border: 1px solid black; padding: 4px;\">0.159D-01</td></tr><tr><td style=\"border: 1px solid black; padding: 4px;\">15</td><td style=\"border: 1px solid black; padding: 4px;\">0.9986651122</td><td style=\"border: 1px solid black; padding: 4px;\">0.0</td><td style=\"border: 1px solid black; padding: 4px;\">0.133D-02</td></tr><tr><td style=\"border: 1px solid black; padding: 4px;\">20</td><td style=\"border: 1px solid black; padding: 4px;\">-1.0000504365</td><td style=\"border: 1px solid black; padding: 4px;\">-0.0</td><td style=\"border: 1px solid black; padding: 4px;\">0.504D-04</td></tr><tr><td style=\"border: 1px solid black; padding: 4px;\">25</td><td style=\"border: 1px solid black; padding: 4px;\">-1.0000002001</td><td style=\"border: 1px solid black; padding: 4px;\">0.0</td><td style=\"border: 1px solid black; padding: 4px;\">0.200D-06</td></tr><tr><td style=\"border: 1px solid black; padding: 4px;\">30</td><td style=\"border: 1px solid black; padding: 4px;\">1.0000000026</td><td style=\"border: 1px solid black; padding: 4px;\">0.0</td><td style=\"border: 1px solid black; padding: 4px;\">0.256D-08</td></tr></tbody></table>"
      ],
      "text/plain": [
       "<IPython.core.display.HTML object>"
      ]
     },
     "execution_count": 19,
     "metadata": {},
     "output_type": "execute_result"
    }
   ],
   "source": [
    "def display_fancy_table(data, caption=None, headers=None):\n",
    "    if headers is None:\n",
    "        headers = [\"$m$\", \"$\\\\Re(\\\\lambda)$\", \"$\\\\Im(\\\\lambda)$\", \"Res. Norm\"]\n",
    "    html = '<table style=\"border-collapse: collapse; font-family: monospace; text-align: right;\">'\n",
    "    if caption:\n",
    "        html += f'<caption style=\"caption-side: bottom; text-align: center; padding-top: 6px; font-style: italic;\">{caption}</caption>'\n",
    "    html += '<thead><tr>' + ''.join(f'<th style=\"border: 1px solid black; padding: 4px;\">{h}</th>' for h in headers) + '</tr></thead>'\n",
    "    html += '<tbody>'\n",
    "    for row in data:\n",
    "        m, re, im, res = row\n",
    "        html += '<tr>'\n",
    "        html += f'<td style=\"border: 1px solid black; padding: 4px;\">{m}</td>'\n",
    "        html += f'<td style=\"border: 1px solid black; padding: 4px;\">{re:.10f}</td>'\n",
    "        html += f'<td style=\"border: 1px solid black; padding: 4px;\">{im:.1f}</td>'\n",
    "        html += f'<td style=\"border: 1px solid black; padding: 4px;\">{F(res)}</td>'\n",
    "        html += '</tr>'\n",
    "    html += '</tbody></table>'\n",
    "    return HTML(html)\n",
    "\n",
    "data = []\n",
    "for k in [5, 10, 15, 20, 25, 30]:\n",
    "    ritz_vals, ritz_vecs = arnoldi_simple(A, k)\n",
    "    data.append([k, np.real(ritz_vals[0]), np.imag(ritz_vals[0]), min_distance(ritz_vals[0], r_values[0])])\n",
    "\n",
    "display_fancy_table(data, \"Convergence as a function of Arnoldi decomposition dimension (reproduction of table 6.1)\")"
   ]
  },
  {
   "cell_type": "markdown",
   "id": "bf3ae94e-dcf7-4af4-bdd2-5bca1f02b872",
   "metadata": {},
   "source": [
    "## Simple arnoldi decomposition with naive restarts"
   ]
  },
  {
   "cell_type": "code",
   "execution_count": 20,
   "id": "26ac3c1f-8527-484a-8b94-322650f26c28",
   "metadata": {},
   "outputs": [],
   "source": [
    "def arnoldi_with_naive_restart(a, k, max_iters):\n",
    "    n = a.shape[0]\n",
    "    nev = 1 # Arnoldi w/ naive restart only really works for one eigen value\n",
    "    arnoldi = ArnoldiDecomposition(n, k)\n",
    "\n",
    "    v = np.random.randn(n)\n",
    "    v /= norm(v)\n",
    "\n",
    "    residuals_history = {}\n",
    "\n",
    "    for i in range(max_iters + 1):\n",
    "        if i > 0:\n",
    "            arnoldi.v.fill(0)\n",
    "            arnoldi.h.fill(0)\n",
    "        arnoldi.initialize(v)\n",
    "\n",
    "        n_iter = arnoldi.iterate(a)\n",
    "\n",
    "        ritz = RitzDecomposition.from_arnoldi(arnoldi, nev, max_dim=n_iter)\n",
    "        if np.abs(ritz.approximate_residuals[0]) < arnoldi.atol:\n",
    "            break\n",
    "\n",
    "        v = ritz.vectors[:, 0]\n",
    "        v /= norm(v)\n",
    "\n",
    "        residuals_history[i] = ritz.approximate_residuals\n",
    "\n",
    "    return ritz.values, ritz.vectors, residuals_history, i"
   ]
  },
  {
   "cell_type": "code",
   "execution_count": 21,
   "id": "49bfdb5b-e83d-4a10-8d1c-bae6620099e6",
   "metadata": {},
   "outputs": [
    {
     "data": {
      "text/html": [
       "<table style=\"border-collapse: collapse; font-family: monospace; text-align: right;\"><caption style=\"caption-side: bottom; text-align: center; padding-top: 6px; font-style: italic;\">Convergence as a function of #restarts, for a fixed Arnoldi decomposition dimension (reproduction of table 6.2)</caption><thead><tr><th style=\"border: 1px solid black; padding: 4px;\">$restarts$</th><th style=\"border: 1px solid black; padding: 4px;\">$\\Re(\\lambda)$</th><th style=\"border: 1px solid black; padding: 4px;\">$\\Im(\\lambda)$</th><th style=\"border: 1px solid black; padding: 4px;\">Res. Norm</th></tr></thead><tbody><tr><td style=\"border: 1px solid black; padding: 4px;\">10</td><td style=\"border: 1px solid black; padding: 4px;\">0.9986545815</td><td style=\"border: 1px solid black; padding: 4px;\">-0.0</td><td style=\"border: 1px solid black; padding: 4px;\">0.135D-02</td></tr><tr><td style=\"border: 1px solid black; padding: 4px;\">20</td><td style=\"border: 1px solid black; padding: 4px;\">0.9998904941</td><td style=\"border: 1px solid black; padding: 4px;\">-0.0</td><td style=\"border: 1px solid black; padding: 4px;\">0.110D-03</td></tr><tr><td style=\"border: 1px solid black; padding: 4px;\">30</td><td style=\"border: 1px solid black; padding: 4px;\">1.0000510259</td><td style=\"border: 1px solid black; padding: 4px;\">-0.0</td><td style=\"border: 1px solid black; padding: 4px;\">0.510D-04</td></tr><tr><td style=\"border: 1px solid black; padding: 4px;\">40</td><td style=\"border: 1px solid black; padding: 4px;\">0.9999999728</td><td style=\"border: 1px solid black; padding: 4px;\">0.0</td><td style=\"border: 1px solid black; padding: 4px;\">0.272D-07</td></tr><tr><td style=\"border: 1px solid black; padding: 4px;\">50</td><td style=\"border: 1px solid black; padding: 4px;\">0.9999996971</td><td style=\"border: 1px solid black; padding: 4px;\">0.0</td><td style=\"border: 1px solid black; padding: 4px;\">0.303D-06</td></tr></tbody></table>"
      ],
      "text/plain": [
       "<IPython.core.display.HTML object>"
      ]
     },
     "execution_count": 21,
     "metadata": {},
     "output_type": "execute_result"
    }
   ],
   "source": [
    "data = []\n",
    "k = 5\n",
    "for max_restarts in [10 // k, 20 // k, 30 // k, 40 // k, 50 // k]:\n",
    "    ritz_vals, ritz_vecs, history, _ = arnoldi_with_naive_restart(A, k, max_restarts)\n",
    "    data.append([max_restarts * k, np.real(ritz_vals[0]), np.imag(ritz_vals[0]), min_distance(ritz_vals[0], r_values[0])])\n",
    "\n",
    "display_fancy_table(\n",
    "    data,\n",
    "    \"Convergence as a function of #restarts, for a fixed Arnoldi decomposition dimension (reproduction of table 6.2)\",\n",
    "    headers=[\"$restarts$\", \"$\\\\Re(\\\\lambda)$\", \"$\\\\Im(\\\\lambda)$\", \"Res. Norm\"],\n",
    ")"
   ]
  },
  {
   "cell_type": "code",
   "execution_count": 22,
   "id": "4d532826-082a-44d0-aabf-f38115364aeb",
   "metadata": {},
   "outputs": [
    {
     "name": "stdout",
     "output_type": "stream",
     "text": [
      "Took 16 iterations and ~80 mat vecs to converge\n",
      "residual        5.15893e-11\n"
     ]
    }
   ],
   "source": [
    "k = 5\n",
    "max_iters = 5000\n",
    "ritz_vals, ritz_vecs, history, n_iter = arnoldi_with_naive_restart(A, k, max_iters)\n",
    "print(f\"Took {n_iter} iterations and ~{n_iter * k} mat vecs to converge\")\n",
    "print(f\"residual        {min_distance(ritz_vals[0], r_values[0]):.5e}\")"
   ]
  },
  {
   "cell_type": "markdown",
   "id": "4a55ffe7-e418-41e1-b0d0-bb87c0ca06b8",
   "metadata": {},
   "source": [
    "## Arnoldi with explicit restarts and deflation/locking\n",
    "\n",
    "Deflation means reducing the influence of directions associated to already converged ritz values. One way is to lock the converged ritz vectors when restarting arnoldi decomposition, i.e. removing them from the arnoldi decomposition so that they are not updated anymore. The algorithm below implements such a scheme for the case of finding largest amplitude eigen values.\n",
    "\n",
    "A basic implementation of deflated iterative Arnoldi, as described in section 6.4 of Numerical methods for large eigenvalue problems, 2nd edition by Yusef Saad:\n",
    "\n",
    "### Deflated iterative Arnoldi\n",
    "\n",
    "**A. Start**: Choose an initial vector $v_1$ of norm unity. Set $k := 1$.\n",
    "\n",
    "**B. Eigenvalue loop**:\n",
    "\n",
    "1. Arnoldi Iteration. For $j = k, k+1, \\dots, m$ do:\n",
    "   - Compute $w := Av_j$.\n",
    "   - Compute a set of $j$ coefficients $h_{i,j}$ so that  \n",
    "     $$\n",
    "     w := w - \\sum_{i=1}^{j} h_{i,j} v_i\n",
    "     $$\n",
    "     is orthogonal to all previous $v_i$’s, $i = 1, 2, \\dots, j$.\n",
    "   - Compute  \n",
    "     $$\n",
    "     h_{j+1,j} = \\|w\\|_2, \\quad v_{j+1} = \\frac{w}{h_{j+1,j}}\n",
    "     $$\n",
    "\n",
    "2. Compute approximate eigenvector of $A$ associated with the eigenvalue $\\tilde{\\lambda}_k$ and its associated residual norm estimate $\\rho_k$.\n",
    "\n",
    "3. Orthonormalize this eigenvector against all previous $v_j$’s to get the approximate Schur vector $\\tilde{u}_k$ and define  \n",
    "   $$\n",
    "   v_k := \\tilde{u}_k\n",
    "   $$\n",
    "\n",
    "4. If $\\rho_k$ is small enough then (accept eigenvalue):\n",
    "   - Compute  \n",
    "     $$\n",
    "     h_{i,k} = (Av_k, v_i), \\quad i = 1, \\dots, k\n",
    "     $$\n",
    "   - Set $k := k + 1$\n",
    "   - If $k \\ge \\texttt{nev}$ then stop, else go to B.1\n",
    "\n",
    "5. Else go to B.1\n",
    "\n"
   ]
  },
  {
   "cell_type": "code",
   "execution_count": 45,
   "id": "ad9eb8b1-c12b-4360-974c-569a5007cc68",
   "metadata": {},
   "outputs": [
    {
     "name": "stdout",
     "output_type": "stream",
     "text": [
      "Restart 100, iter 20: 0.00024495997567004703\n",
      "Restart 100, iter 20: 0.00024638287467184213\n",
      "Restart 100, iter 20: 0.00208918321260188\n",
      "Restart 100, iter 20: 0.0001734783615384889\n",
      "Restart 100, iter 20: 0.00101161786908288\n",
      "Restart 100, iter 20: 0.000947886499577037\n",
      "Restart 100, iter 20: 0.00027596096586571565\n",
      "Restart 100, iter 20: 0.00027973669069498026\n",
      "Restart 100, iter 20: 0.00018705216727804634\n",
      "Restart 100, iter 20: 7.797854440011003e-05\n",
      "Restart 100, iter 20: 0.00026268345093225214\n",
      "Restart 100, iter 20: 0.0002880734731302075\n",
      "Restart 100, iter 20: 0.00036828923105561566\n",
      "Restart 100, iter 20: 0.00017459862065738837\n",
      "Restart 100, iter 20: 0.0004081021750209462\n",
      "Restart 100, iter 20: 0.0001907043798078322\n",
      "Restart 100, iter 20: 0.0001258943109583058\n",
      "Restart 100, iter 20: 0.002517750571075469\n",
      "Restart 100, iter 20: 0.00010799368256644754\n",
      "Restart 100, iter 20: 0.00013473329229634747\n",
      "Restart 100, iter 20: 9.796311673140851e-05\n",
      "Restart 100, iter 20: 0.00032894117186129274\n",
      "Restart 100, iter 20: 0.0007968468572208369\n",
      "Restart 100, iter 20: 3.6241707845598095e-05\n",
      "Restart 100, iter 20: 0.00036623760123125564\n",
      "Restart 100, iter 20: 0.0006725875339123795\n",
      "Restart 100, iter 20: 0.0004345952877999859\n",
      "Restart 100, iter 20: 0.0008301822432360963\n",
      "Restart 100, iter 20: 0.0002709331131454504\n",
      "Restart 100, iter 20: 0.0014086162228570025\n",
      "Restart 100, iter 20: 0.0002310185231523798\n",
      "Restart 100, iter 20: 0.0003240767676229926\n",
      "Restart 100, iter 20: 0.00012174047335454464\n",
      "Restart 100, iter 20: 0.00014955692216765887\n",
      "Restart 100, iter 20: 0.000315866567211968\n",
      "Restart 100, iter 20: 0.00011400018076263782\n",
      "Restart 100, iter 20: 0.0007113205865712027\n",
      "Restart 100, iter 20: 0.0003810662617932563\n",
      "Restart 100, iter 20: 0.00018322847571192646\n",
      "Restart 100, iter 20: 0.0003284787724663367\n",
      "Restart 100, iter 20: 0.00018367360062832008\n",
      "Restart 100, iter 20: 0.00033729641363611544\n",
      "Restart 100, iter 20: 0.0004892045402666814\n",
      "Restart 100, iter 20: 0.0002748386518128302\n",
      "Restart 100, iter 20: 0.0005943485160206137\n",
      "Restart 100, iter 20: 0.00014611223361257397\n",
      "Restart 100, iter 20: 0.00028080747589257973\n",
      "Restart 100, iter 20: 0.00013218598464014277\n",
      "Restart 100, iter 20: 0.001330887205768198\n",
      "Restart 100, iter 20: 0.0001576360730419011\n",
      "Restart 100, iter 20: 0.00015199910213802706\n",
      "Restart 100, iter 20: 0.00030104714149248736\n",
      "Restart 100, iter 20: 0.0006898322153537198\n",
      "Restart 100, iter 20: 0.00017659227468603652\n",
      "Restart 100, iter 20: 0.0005787844317121084\n",
      "Restart 100, iter 20: 0.00020419323759482858\n",
      "Restart 100, iter 20: 0.00035010125512286724\n",
      "Restart 100, iter 20: 0.0001877203173526702\n",
      "Restart 100, iter 20: 0.0006846764320544367\n",
      "Restart 100, iter 20: 0.0005576789551811195\n",
      "Restart 100, iter 20: 0.000666579017778602\n",
      "Restart 100, iter 20: 0.0001781111339770273\n",
      "Restart 100, iter 20: 0.003794082568919389\n",
      "Restart 100, iter 20: 0.0006566862841107627\n",
      "Restart 100, iter 20: 0.0014006424934994398\n",
      "Restart 100, iter 20: 0.000272341049424631\n",
      "Restart 100, iter 20: 0.0001082429561413864\n",
      "Restart 100, iter 20: 0.00026148265021565015\n",
      "Restart 100, iter 20: 0.0004005903563526852\n",
      "Restart 100, iter 20: 8.56937233274905e-05\n",
      "Restart 100, iter 20: 0.00016970641382240778\n",
      "Restart 100, iter 20: 0.00042027510890810883\n",
      "Restart 100, iter 20: 0.00015266395530913034\n",
      "Restart 100, iter 20: 0.01325350924065294\n",
      "Restart 100, iter 20: 0.0014690220300585298\n",
      "Restart 100, iter 20: 2.704933669466891e-05\n",
      "Restart 100, iter 20: 0.00011723730725883378\n",
      "Restart 100, iter 20: 0.00011241056187415242\n",
      "Restart 100, iter 20: 0.00018264801455656856\n",
      "Restart 100, iter 20: 0.0004055638196183068\n",
      "Restart 100, iter 20: 0.0032210285607317682\n",
      "Restart 100, iter 20: 0.0010446955128665214\n",
      "Restart 100, iter 20: 0.0003887313984681708\n",
      "Restart 100, iter 20: 0.003044403671642588\n",
      "Restart 100, iter 20: 0.0001541441652779871\n",
      "Restart 100, iter 20: 0.0005369037210740148\n",
      "Restart 100, iter 20: 0.0009592817246872132\n",
      "Restart 100, iter 20: 0.00010015763111410298\n",
      "Restart 100, iter 20: 0.0002259215928585708\n",
      "Restart 100, iter 20: 0.0003063103203304014\n",
      "Restart 100, iter 20: 0.00016800245189344437\n",
      "Restart 100, iter 20: 0.0032600217700193223\n",
      "Restart 100, iter 20: 0.015597635058337934\n",
      "Restart 100, iter 20: 0.00016547015859034553\n",
      "Restart 100, iter 20: 0.00025781006971695164\n",
      "Restart 100, iter 20: 0.0002641003854265987\n",
      "Restart 100, iter 20: 0.00012095076333037521\n",
      "Restart 100, iter 20: 0.0005161614839452553\n",
      "Restart 100, iter 20: 0.00014944435466295036\n",
      "Restart 100, iter 20: 0.0004022725558301465\n",
      "Restart 100, iter 20: 7.265384130155896e-05\n"
     ]
    },
    {
     "ename": "ValueError",
     "evalue": "Only 0 ritz values converged",
     "output_type": "error",
     "traceback": [
      "\u001b[31m---------------------------------------------------------------------------\u001b[39m",
      "\u001b[31mValueError\u001b[39m                                Traceback (most recent call last)",
      "\u001b[36mCell\u001b[39m\u001b[36m \u001b[39m\u001b[32mIn[45]\u001b[39m\u001b[32m, line 59\u001b[39m\n\u001b[32m     54\u001b[39m         \u001b[38;5;66;03m#arnoldi.v[:, active_dim] = init_vector\u001b[39;00m\n\u001b[32m     58\u001b[39m \u001b[38;5;28;01mif\u001b[39;00m active_dim < nev:\n\u001b[32m---> \u001b[39m\u001b[32m59\u001b[39m     \u001b[38;5;28;01mraise\u001b[39;00m \u001b[38;5;167;01mValueError\u001b[39;00m(\u001b[33mf\u001b[39m\u001b[33m\"\u001b[39m\u001b[33mOnly \u001b[39m\u001b[38;5;132;01m{\u001b[39;00mactive_dim\u001b[38;5;132;01m}\u001b[39;00m\u001b[33m ritz values converged\u001b[39m\u001b[33m\"\u001b[39m)\n",
      "\u001b[31mValueError\u001b[39m: Only 0 ritz values converged"
     ]
    }
   ],
   "source": [
    "a = mark(10)\n",
    "n = a.shape[0]\n",
    "nev = 1\n",
    "max_dim = 20\n",
    "max_iters = 100\n",
    "\n",
    "arnoldi = ArnoldiDecomposition(n, max_dim)\n",
    "arnoldi.initialize()\n",
    "\n",
    "residuals_history = {}\n",
    "ritz_values = []\n",
    "\n",
    "# Index of the first non locked vector\n",
    "active_dim = 0\n",
    "\n",
    "for it in range(max_iters + 1):\n",
    "    #n_iter = arnoldi.iterate(a, start_dim=active_dim)\n",
    "    n_iter = arnoldi.iterate(a)\n",
    "\n",
    "    #print(n_iter)\n",
    "    #non_ortho = arnoldi.v.conj().T @ arnoldi.v - sp.eye(n_iter+1)\n",
    "    #print(np.max(non_ortho))\n",
    "    n_ritz = 1\n",
    "    ritz = RitzDecomposition.from_arnoldi(arnoldi, n_ritz, max_dim=n_iter, start_dim=active_dim)\n",
    "\n",
    "    print(f\"Restart {_}, iter {n_iter}: {np.abs(ritz.approximate_residuals[0])}\")\n",
    "    if np.abs(ritz.approximate_residuals[0]) < arnoldi.atol:\n",
    "        print(f\"Locking ritz value {active_dim}\")\n",
    "        v, h = arnoldi.v, arnoldi.h\n",
    "        ritz_values.append(ritz.values[0])\n",
    "        \n",
    "        u = ritz.vectors[:, 0]\n",
    "        # Modified Gram-Schmidt (orthonormalization)\n",
    "        for i in range(active_dim):\n",
    "            p = np.vdot(v[:, i], u)\n",
    "            u -= p * v[:, i]\n",
    "        v[:, active_dim] = u\n",
    "\n",
    "        u_next = a @ u\n",
    "        for i in range(active_dim):\n",
    "            arnoldi.h[i, active_dim] = v[:, i] @ u_next\n",
    "\n",
    "        init_vector = u\n",
    "        active_dim += 1\n",
    "        if active_dim >= nev:\n",
    "            break\n",
    "    else:\n",
    "        if it > 0:\n",
    "            arnoldi.v.fill(0)\n",
    "            arnoldi.h.fill(0)\n",
    "        init_vector = np.random.randn(n).astype(arnoldi._dtype)\n",
    "        init_vector /= norm(init_vector)\n",
    "        arnoldi.initialize(init_vector)\n",
    "        #arnoldi.v[:, active_dim] = init_vector\n",
    "            \n",
    "\n",
    "\n",
    "if active_dim < nev:\n",
    "    raise ValueError(f\"Only {active_dim} ritz values converged\")"
   ]
  },
  {
   "cell_type": "code",
   "execution_count": 25,
   "id": "be2ac1f5-7b7e-4843-ab5d-3ee9b5659e85",
   "metadata": {},
   "outputs": [
    {
     "data": {
      "text/plain": [
       "[]"
      ]
     },
     "execution_count": 25,
     "metadata": {},
     "output_type": "execute_result"
    }
   ],
   "source": [
    "ritz_values"
   ]
  },
  {
   "cell_type": "code",
   "execution_count": null,
   "id": "12d02107-034c-4fd7-b788-e73436c4fc1b",
   "metadata": {},
   "outputs": [],
   "source": []
  }
 ],
 "metadata": {
  "kernelspec": {
   "display_name": "Python 3 (ipykernel)",
   "language": "python",
   "name": "python3"
  },
  "language_info": {
   "codemirror_mode": {
    "name": "ipython",
    "version": 3
   },
   "file_extension": ".py",
   "mimetype": "text/x-python",
   "name": "python",
   "nbconvert_exporter": "python",
   "pygments_lexer": "ipython3",
   "version": "3.11.13"
  }
 },
 "nbformat": 4,
 "nbformat_minor": 5
}
