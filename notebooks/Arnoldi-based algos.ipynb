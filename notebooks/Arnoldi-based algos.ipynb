{
 "cells": [
  {
   "cell_type": "code",
   "execution_count": 1,
   "id": "8db6f1ec-2f69-476f-bbf1-593ac035830d",
   "metadata": {},
   "outputs": [],
   "source": [
    "import os.path\n",
    "import sys\n",
    "\n",
    "import numpy as np\n",
    "import scipy.sparse as sp\n",
    "\n",
    "from numpy.linalg import norm\n",
    "\n",
    "from IPython.display import HTML\n",
    "\n",
    "from arnoldi.decomposition import ArnoldiDecomposition, RitzDecomposition"
   ]
  },
  {
   "cell_type": "code",
   "execution_count": 2,
   "id": "0cb8ddb7-8ad5-45d4-8893-e949ce842468",
   "metadata": {},
   "outputs": [],
   "source": [
    "import arnoldi\n",
    "root = os.path.join(os.path.dirname(arnoldi.__file__), \"..\", \"..\")\n",
    "sys.path.insert(0, root)\n",
    "from tests.test_matrices import mark"
   ]
  },
  {
   "cell_type": "markdown",
   "id": "6bd473c5-5c68-4f5e-9117-7d08bd370d86",
   "metadata": {},
   "source": [
    "## Some basic utils"
   ]
  },
  {
   "cell_type": "code",
   "execution_count": 3,
   "id": "1d9355bd-fb6f-44b2-a35f-c07174216391",
   "metadata": {},
   "outputs": [],
   "source": [
    "def min_distance(a, b):\n",
    "    # Compute distance between a and b, ignoring differences due to sign\n",
    "    # difference of conjugate\n",
    "    m = np.inf\n",
    "    for left in (a, np.conj(a)):\n",
    "        for right in (b, np.conj(b)):\n",
    "            m = min(m, np.abs(left - right))\n",
    "            m = min(m, np.abs(left + right))\n",
    "\n",
    "    return m\n",
    "\n",
    "\n",
    "def fortran_d_format(x):\n",
    "    if x == 0:\n",
    "        return \"0.000D+00\"\n",
    "    else:\n",
    "        exponent = int(np.floor(np.log10(abs(x))))\n",
    "        mantissa = x / (10 ** exponent)\n",
    "        # Normalize mantissa to [0.1, 1.0)\n",
    "        mantissa /= 10\n",
    "        exponent += 1\n",
    "        return f\"{mantissa:.3f}D{exponent:+03d}\"\n",
    "\n",
    "F = fortran_d_format"
   ]
  },
  {
   "cell_type": "markdown",
   "id": "2110b1a0-0e24-4164-93d9-c02414fa2ade",
   "metadata": {},
   "source": [
    "## Simple arnoldi decomposition, no restart"
   ]
  },
  {
   "cell_type": "code",
   "execution_count": 4,
   "id": "c17194f6-f80b-4719-b3a0-b9d2820a92a9",
   "metadata": {},
   "outputs": [],
   "source": [
    "def arnoldi_simple(a, k=None):\n",
    "    n = a.shape[0]\n",
    "    nev = 1 # Naive arnoldi w/o restart only really works for 1 eigenvalue\n",
    "    k = k or min(max(2 * nev + 1), n)\n",
    "\n",
    "    arnoldi = ArnoldiDecomposition(n, k)\n",
    "    arnoldi.initialize()\n",
    "\n",
    "    n_iter = arnoldi.iterate(a)\n",
    "\n",
    "    ritz = RitzDecomposition.from_arnoldi(arnoldi, nev, n_iter)\n",
    "    return ritz.values, ritz.vectors"
   ]
  },
  {
   "cell_type": "code",
   "execution_count": 5,
   "id": "cdfd2dfd-20b1-4ebf-8f38-e00f72ea6f1b",
   "metadata": {},
   "outputs": [
    {
     "name": "stdout",
     "output_type": "stream",
     "text": [
      "[-1.+0.j]\n"
     ]
    }
   ],
   "source": [
    "A = mark(10)\n",
    "N = A.shape[0]\n",
    "NEV = 1\n",
    "\n",
    "r_values = np.sort(sp.linalg.eigs(A, NEV)[0])[::-1]\n",
    "print(r_values)"
   ]
  },
  {
   "cell_type": "code",
   "execution_count": 6,
   "id": "31d2732f-374f-4a27-9d65-381d1955f78e",
   "metadata": {},
   "outputs": [
    {
     "data": {
      "text/html": [
       "<table style=\"border-collapse: collapse; font-family: monospace; text-align: right;\"><caption style=\"caption-side: bottom; text-align: center; padding-top: 6px; font-style: italic;\">Convergence as a function of Arnoldi decomposition dimension (reproduction of table 6.1)</caption><thead><tr><th style=\"border: 1px solid black; padding: 4px;\">$m$</th><th style=\"border: 1px solid black; padding: 4px;\">$\\Re(\\lambda)$</th><th style=\"border: 1px solid black; padding: 4px;\">$\\Im(\\lambda)$</th><th style=\"border: 1px solid black; padding: 4px;\">Res. Norm</th></tr></thead><tbody><tr><td style=\"border: 1px solid black; padding: 4px;\">5</td><td style=\"border: 1px solid black; padding: 4px;\">0.9230922449</td><td style=\"border: 1px solid black; padding: 4px;\">0.0</td><td style=\"border: 1px solid black; padding: 4px;\">0.769D-01</td></tr><tr><td style=\"border: 1px solid black; padding: 4px;\">10</td><td style=\"border: 1px solid black; padding: 4px;\">0.9848393262</td><td style=\"border: 1px solid black; padding: 4px;\">0.0</td><td style=\"border: 1px solid black; padding: 4px;\">0.152D-01</td></tr><tr><td style=\"border: 1px solid black; padding: 4px;\">15</td><td style=\"border: 1px solid black; padding: 4px;\">-0.9966282202</td><td style=\"border: 1px solid black; padding: 4px;\">-0.0</td><td style=\"border: 1px solid black; padding: 4px;\">0.337D-02</td></tr><tr><td style=\"border: 1px solid black; padding: 4px;\">20</td><td style=\"border: 1px solid black; padding: 4px;\">-1.0000051417</td><td style=\"border: 1px solid black; padding: 4px;\">-0.0</td><td style=\"border: 1px solid black; padding: 4px;\">0.514D-05</td></tr><tr><td style=\"border: 1px solid black; padding: 4px;\">25</td><td style=\"border: 1px solid black; padding: 4px;\">1.0000014375</td><td style=\"border: 1px solid black; padding: 4px;\">0.0</td><td style=\"border: 1px solid black; padding: 4px;\">0.144D-05</td></tr><tr><td style=\"border: 1px solid black; padding: 4px;\">30</td><td style=\"border: 1px solid black; padding: 4px;\">-1.0000000064</td><td style=\"border: 1px solid black; padding: 4px;\">0.0</td><td style=\"border: 1px solid black; padding: 4px;\">0.644D-08</td></tr></tbody></table>"
      ],
      "text/plain": [
       "<IPython.core.display.HTML object>"
      ]
     },
     "execution_count": 6,
     "metadata": {},
     "output_type": "execute_result"
    }
   ],
   "source": [
    "def display_fancy_table(data, caption=None, headers=None):\n",
    "    if headers is None:\n",
    "        headers = [\"$m$\", \"$\\\\Re(\\\\lambda)$\", \"$\\\\Im(\\\\lambda)$\", \"Res. Norm\"]\n",
    "    html = '<table style=\"border-collapse: collapse; font-family: monospace; text-align: right;\">'\n",
    "    if caption:\n",
    "        html += f'<caption style=\"caption-side: bottom; text-align: center; padding-top: 6px; font-style: italic;\">{caption}</caption>'\n",
    "    html += '<thead><tr>' + ''.join(f'<th style=\"border: 1px solid black; padding: 4px;\">{h}</th>' for h in headers) + '</tr></thead>'\n",
    "    html += '<tbody>'\n",
    "    for row in data:\n",
    "        m, re, im, res = row\n",
    "        html += '<tr>'\n",
    "        html += f'<td style=\"border: 1px solid black; padding: 4px;\">{m}</td>'\n",
    "        html += f'<td style=\"border: 1px solid black; padding: 4px;\">{re:.10f}</td>'\n",
    "        html += f'<td style=\"border: 1px solid black; padding: 4px;\">{im:.1f}</td>'\n",
    "        html += f'<td style=\"border: 1px solid black; padding: 4px;\">{F(res)}</td>'\n",
    "        html += '</tr>'\n",
    "    html += '</tbody></table>'\n",
    "    return HTML(html)\n",
    "\n",
    "data = []\n",
    "for k in [5, 10, 15, 20, 25, 30]:\n",
    "    ritz_vals, ritz_vecs = arnoldi_simple(A, k)\n",
    "    data.append([k, np.real(ritz_vals[0]), np.imag(ritz_vals[0]), min_distance(ritz_vals[0], r_values[0])])\n",
    "\n",
    "display_fancy_table(data, \"Convergence as a function of Arnoldi decomposition dimension (reproduction of table 6.1)\")"
   ]
  },
  {
   "cell_type": "markdown",
   "id": "bf3ae94e-dcf7-4af4-bdd2-5bca1f02b872",
   "metadata": {},
   "source": [
    "## Simple arnoldi decomposition with naive restarts"
   ]
  },
  {
   "cell_type": "code",
   "execution_count": 7,
   "id": "26ac3c1f-8527-484a-8b94-322650f26c28",
   "metadata": {},
   "outputs": [],
   "source": [
    "def arnoldi_with_naive_restart(a, k, max_iters):\n",
    "    n = a.shape[0]\n",
    "    nev = 1 # Arnoldi w/ naive restart only really works for one eigen value\n",
    "    arnoldi = ArnoldiDecomposition(n, k)\n",
    "\n",
    "    v = np.random.randn(n)\n",
    "    v /= norm(v)\n",
    "\n",
    "    residuals_history = {}\n",
    "\n",
    "    for i in range(max_iters + 1):\n",
    "        if i > 0:\n",
    "            arnoldi.q.fill(0)\n",
    "            arnoldi.h.fill(0)\n",
    "        arnoldi.initialize(v)\n",
    "\n",
    "        n_iter = arnoldi.iterate(a)\n",
    "\n",
    "        ritz = RitzDecomposition.from_arnoldi(arnoldi, nev, k=n_iter)\n",
    "        if np.abs(ritz.approximate_residuals[0]) < arnoldi.atol:\n",
    "            break\n",
    "\n",
    "        v = ritz.vectors[:, 0]\n",
    "        v /= norm(v)\n",
    "\n",
    "        residuals_history[i] = ritz.approximate_residuals\n",
    "\n",
    "    return ritz.values, ritz.vectors, residuals_history, i"
   ]
  },
  {
   "cell_type": "code",
   "execution_count": 8,
   "id": "49bfdb5b-e83d-4a10-8d1c-bae6620099e6",
   "metadata": {},
   "outputs": [
    {
     "data": {
      "text/html": [
       "<table style=\"border-collapse: collapse; font-family: monospace; text-align: right;\"><caption style=\"caption-side: bottom; text-align: center; padding-top: 6px; font-style: italic;\">Convergence as a function of #restarts, for a fixed Arnoldi decomposition dimension (reproduction of table 6.2)</caption><thead><tr><th style=\"border: 1px solid black; padding: 4px;\">$restarts$</th><th style=\"border: 1px solid black; padding: 4px;\">$\\Re(\\lambda)$</th><th style=\"border: 1px solid black; padding: 4px;\">$\\Im(\\lambda)$</th><th style=\"border: 1px solid black; padding: 4px;\">Res. Norm</th></tr></thead><tbody><tr><td style=\"border: 1px solid black; padding: 4px;\">10</td><td style=\"border: 1px solid black; padding: 4px;\">1.0012584175</td><td style=\"border: 1px solid black; padding: 4px;\">-0.0</td><td style=\"border: 1px solid black; padding: 4px;\">0.126D-02</td></tr><tr><td style=\"border: 1px solid black; padding: 4px;\">20</td><td style=\"border: 1px solid black; padding: 4px;\">1.0013065293</td><td style=\"border: 1px solid black; padding: 4px;\">0.0</td><td style=\"border: 1px solid black; padding: 4px;\">0.131D-02</td></tr><tr><td style=\"border: 1px solid black; padding: 4px;\">30</td><td style=\"border: 1px solid black; padding: 4px;\">0.9999977114</td><td style=\"border: 1px solid black; padding: 4px;\">-0.0</td><td style=\"border: 1px solid black; padding: 4px;\">0.229D-05</td></tr><tr><td style=\"border: 1px solid black; padding: 4px;\">40</td><td style=\"border: 1px solid black; padding: 4px;\">-1.0000006455</td><td style=\"border: 1px solid black; padding: 4px;\">0.0</td><td style=\"border: 1px solid black; padding: 4px;\">0.645D-06</td></tr><tr><td style=\"border: 1px solid black; padding: 4px;\">50</td><td style=\"border: 1px solid black; padding: 4px;\">-0.9999998394</td><td style=\"border: 1px solid black; padding: 4px;\">0.0</td><td style=\"border: 1px solid black; padding: 4px;\">0.161D-06</td></tr></tbody></table>"
      ],
      "text/plain": [
       "<IPython.core.display.HTML object>"
      ]
     },
     "execution_count": 8,
     "metadata": {},
     "output_type": "execute_result"
    }
   ],
   "source": [
    "data = []\n",
    "k = 5\n",
    "for max_restarts in [10 // k, 20 // k, 30 // k, 40 // k, 50 // k]:\n",
    "    ritz_vals, ritz_vecs, history, _ = arnoldi_with_naive_restart(A, k, max_restarts)\n",
    "    data.append([max_restarts * k, np.real(ritz_vals[0]), np.imag(ritz_vals[0]), min_distance(ritz_vals[0], r_values[0])])\n",
    "\n",
    "display_fancy_table(\n",
    "    data,\n",
    "    \"Convergence as a function of #restarts, for a fixed Arnoldi decomposition dimension (reproduction of table 6.2)\",\n",
    "    headers=[\"$restarts$\", \"$\\\\Re(\\\\lambda)$\", \"$\\\\Im(\\\\lambda)$\", \"Res. Norm\"],\n",
    ")"
   ]
  },
  {
   "cell_type": "code",
   "execution_count": 9,
   "id": "4d532826-082a-44d0-aabf-f38115364aeb",
   "metadata": {},
   "outputs": [
    {
     "name": "stdout",
     "output_type": "stream",
     "text": [
      "Took 15 iterations and ~75 mat vecs to converge\n",
      "residual        2.52325e-11\n"
     ]
    }
   ],
   "source": [
    "k = 5\n",
    "max_iters = 5000\n",
    "ritz_vals, ritz_vecs, history, n_iter = arnoldi_with_naive_restart(A, k, max_iters)\n",
    "print(f\"Took {n_iter} iterations and ~{n_iter * k} mat vecs to converge\")\n",
    "print(f\"residual        {min_distance(ritz_vals[0], r_values[0]):.5e}\")"
   ]
  },
  {
   "cell_type": "markdown",
   "id": "4a55ffe7-e418-41e1-b0d0-bb87c0ca06b8",
   "metadata": {},
   "source": [
    "## Arnoldi with explicit restarts and deflation/locking\n",
    "\n",
    "Deflation means reducing the influence of directions associated to already converged ritz values. One way is to lock the converged ritz vectors when restarting arnoldi decomposition, i.e. removing them from the arnoldi decomposition so that they are not updated anymore. The algorithm below implements such a scheme for the case of finding largest amplitude eigen values.\n",
    "\n",
    "A basic implementation of deflated iterative Arnoldi, as described in section 6.4 of Numerical methods for large eigenvalue problems, 2nd edition by Yusef Saad:\n",
    "\n",
    "### Deflated iterative Arnoldi\n",
    "\n",
    "**A. Start**: Choose an initial vector $v_1$ of norm unity. Set $k := 1$.\n",
    "\n",
    "**B. Eigenvalue loop**:\n",
    "\n",
    "1. Arnoldi Iteration. For $j = k, k+1, \\dots, m$ do:\n",
    "   - Compute $w := Av_j$.\n",
    "   - Compute a set of $j$ coefficients $h_{i,j}$ so that  \n",
    "     $$\n",
    "     w := w - \\sum_{i=1}^{j} h_{i,j} v_i\n",
    "     $$\n",
    "     is orthogonal to all previous $v_i$’s, $i = 1, 2, \\dots, j$.\n",
    "   - Compute  \n",
    "     $$\n",
    "     h_{j+1,j} = \\|w\\|_2, \\quad v_{j+1} = \\frac{w}{h_{j+1,j}}\n",
    "     $$\n",
    "\n",
    "2. Compute approximate eigenvector of $A$ associated with the eigenvalue $\\tilde{\\lambda}_k$ and its associated residual norm estimate $\\rho_k$.\n",
    "\n",
    "3. Orthonormalize this eigenvector against all previous $v_j$’s to get the approximate Schur vector $\\tilde{u}_k$ and define  \n",
    "   $$\n",
    "   v_k := \\tilde{u}_k\n",
    "   $$\n",
    "\n",
    "4. If $\\rho_k$ is small enough then (accept eigenvalue):\n",
    "   - Compute  \n",
    "     $$\n",
    "     h_{i,k} = (Av_k, v_i), \\quad i = 1, \\dots, k\n",
    "     $$\n",
    "   - Set $k := k + 1$\n",
    "   - If $k \\ge \\texttt{nev}$ then stop, else go to B.1\n",
    "\n",
    "5. Else go to B.1\n",
    "\n"
   ]
  }
 ],
 "metadata": {
  "kernelspec": {
   "display_name": "Python 3 (ipykernel)",
   "language": "python",
   "name": "python3"
  },
  "language_info": {
   "codemirror_mode": {
    "name": "ipython",
    "version": 3
   },
   "file_extension": ".py",
   "mimetype": "text/x-python",
   "name": "python",
   "nbconvert_exporter": "python",
   "pygments_lexer": "ipython3",
   "version": "3.11.13"
  }
 },
 "nbformat": 4,
 "nbformat_minor": 5
}
